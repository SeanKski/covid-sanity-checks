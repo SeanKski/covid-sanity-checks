{
 "cells": [
  {
   "cell_type": "code",
   "execution_count": 1,
   "metadata": {
    "scrolled": true
   },
   "outputs": [
    {
     "name": "stderr",
     "output_type": "stream",
     "text": [
      "Using TensorFlow backend.\n"
     ]
    },
    {
     "name": "stdout",
     "output_type": "stream",
     "text": [
      "Loaded!\n"
     ]
    }
   ],
   "source": [
    "import numpy as np\n",
    "import pandas as pd\n",
    "import glob\n",
    "from pathlib import Path\n",
    "from tqdm.notebook import tqdm\n",
    "import os\n",
    "import shutil \n",
    "import matplotlib.pyplot as plt\n",
    "from keras.preprocessing.image import ImageDataGenerator, load_img, img_to_array, array_to_img\n",
    "from keras.utils import to_categorical\n",
    "from PIL import Image\n",
    "from sklearn.model_selection import train_test_split\n",
    "%matplotlib inline\n",
    "\n",
    "rng = np.random.RandomState(42)\n",
    "datasets_dir = Path('model-datasets')\n",
    "\n",
    "print('Loaded!')"
   ]
  },
  {
   "cell_type": "code",
   "execution_count": 2,
   "metadata": {},
   "outputs": [],
   "source": [
    "import tensorflow as tf\n",
    "gpus = tf.config.experimental.list_physical_devices('GPU')\n",
    "if gpus:\n",
    "  try:\n",
    "    for gpu in gpus:\n",
    "      tf.config.experimental.set_memory_growth(gpu, True)\n",
    "  except RuntimeError as e:\n",
    "    print(e)"
   ]
  },
  {
   "cell_type": "code",
   "execution_count": 3,
   "metadata": {
    "scrolled": true
   },
   "outputs": [],
   "source": [
    "# Creating truth dataframe\n",
    "covid_files = glob.glob(str(datasets_dir / 'covid-images' / '*'))                # 0\n",
    "lung_opacity_files = glob.glob(str(datasets_dir / 'lung-opacity-images' / '*'))  # 1\n",
    "normal_files = glob.glob(str(datasets_dir / 'normal-images' / '*'))              # 2\n",
    "other_files = glob.glob(str(datasets_dir / 'other-images' / '*'))                # 3\n",
    "\n",
    "y = np.concatenate((np.full(shape=(len(covid_files)), fill_value='covid'),\n",
    "                  np.full(shape=(len(lung_opacity_files)), fill_value='lung opacity'),\n",
    "                  np.full(shape=(len(normal_files)), fill_value='normal'),\n",
    "                  np.full(shape=(len(other_files)), fill_value='other')), axis=0)\n",
    "all_files = np.array(covid_files + lung_opacity_files + normal_files + other_files).astype(str)\n",
    "\n",
    "all_df = pd.DataFrame(data={'file': all_files, 'truth':y})"
   ]
  },
  {
   "cell_type": "code",
   "execution_count": 4,
   "metadata": {},
   "outputs": [
    {
     "data": {
      "text/plain": [
       "other           259\n",
       "covid           259\n",
       "normal          259\n",
       "lung opacity    259\n",
       "Name: truth, dtype: int64"
      ]
     },
     "execution_count": 4,
     "metadata": {},
     "output_type": "execute_result"
    }
   ],
   "source": [
    "all_df['truth'].value_counts()"
   ]
  },
  {
   "cell_type": "code",
   "execution_count": 9,
   "metadata": {
    "scrolled": true
   },
   "outputs": [],
   "source": [
    "X_train, X_test, y_train, y_test = train_test_split(all_df['file'], all_df['truth'],\n",
    "                                                    test_size=.2, random_state=rng, stratify=all_df['truth'])"
   ]
  },
  {
   "cell_type": "code",
   "execution_count": 10,
   "metadata": {
    "scrolled": true
   },
   "outputs": [],
   "source": [
    "X_train, X_val, y_train, y_val = train_test_split(X_train, y_train, test_size=.1, random_state=rng, stratify=y_train)"
   ]
  },
  {
   "cell_type": "code",
   "execution_count": 11,
   "metadata": {
    "scrolled": true
   },
   "outputs": [],
   "source": [
    "train_df = pd.concat((X_train, pd.Series(y_train)), axis=1)\n",
    "val_df = pd.concat((X_val, pd.Series(y_val)), axis=1)\n",
    "test_df = pd.concat((X_test, pd.Series(y_test)), axis=1)"
   ]
  },
  {
   "cell_type": "code",
   "execution_count": 12,
   "metadata": {},
   "outputs": [
    {
     "name": "stdout",
     "output_type": "stream",
     "text": [
      "train:\n",
      " normal          187\n",
      "other           186\n",
      "lung opacity    186\n",
      "covid           186\n",
      "Name: truth, dtype: int64\n",
      "val:\n",
      " covid           21\n",
      "other           21\n",
      "lung opacity    21\n",
      "normal          20\n",
      "Name: truth, dtype: int64\n",
      "test:\n",
      " lung opacity    52\n",
      "normal          52\n",
      "covid           52\n",
      "other           52\n",
      "Name: truth, dtype: int64\n"
     ]
    }
   ],
   "source": [
    "print(f'train:\\n {train_df[\"truth\"].value_counts()}')\n",
    "print('val:\\n', val_df[\"truth\"].value_counts())\n",
    "print('test:\\n', test_df[\"truth\"].value_counts())"
   ]
  },
  {
   "cell_type": "code",
   "execution_count": 13,
   "metadata": {
    "scrolled": true
   },
   "outputs": [],
   "source": [
    "# hyperparameters\n",
    "img_width = img_height = 224\n",
    "img_dim = (img_width, img_height)\n",
    "batch_size = 32\n",
    "train_batch_size = batch_size\n",
    "val_batch_size = batch_size\n",
    "n_epochs = 100\n",
    "test_batch_size = batch_size\n",
    "learning_rate = 1e-5\n",
    "\n",
    "train_steps_per_epoch = int(len(X_train) / train_batch_size)\n",
    "val_steps_per_epoch = int(len(X_val) / val_batch_size)"
   ]
  },
  {
   "cell_type": "code",
   "execution_count": 14,
   "metadata": {
    "scrolled": true
   },
   "outputs": [
    {
     "name": "stdout",
     "output_type": "stream",
     "text": [
      "Found 745 validated image filenames belonging to 4 classes.\n",
      "Found 83 validated image filenames belonging to 4 classes.\n",
      "Found 208 validated image filenames belonging to 4 classes.\n"
     ]
    }
   ],
   "source": [
    "train_generator = ImageDataGenerator().flow_from_dataframe(train_df,\n",
    "                                                                         x_col='file',\n",
    "                                                                         y_col='truth',\n",
    "                                                                         target_size = img_dim,\n",
    "                                                                         batch_size=train_batch_size,\n",
    "                                                                         seed=42)\n",
    "val_generator = ImageDataGenerator().flow_from_dataframe(val_df,\n",
    "                                                                         x_col='file',\n",
    "                                                                         y_col='truth',\n",
    "                                                                         target_size = img_dim,\n",
    "                                                                         batch_size=val_batch_size,\n",
    "                                                                         seed=42)\n",
    "test_generator = ImageDataGenerator().flow_from_dataframe(test_df,\n",
    "                                                                         x_col='file',\n",
    "                                                                         y_col='truth',\n",
    "                                                                         target_size = img_dim,\n",
    "                                                                         batch_size=test_batch_size,\n",
    "                                                                         seed=42)"
   ]
  },
  {
   "cell_type": "code",
   "execution_count": 15,
   "metadata": {},
   "outputs": [
    {
     "name": "stdout",
     "output_type": "stream",
     "text": [
      "[0. 0. 0. 1.]\n"
     ]
    },
    {
     "data": {
      "text/plain": [
       "<matplotlib.image.AxesImage at 0x1ef9c0687b8>"
      ]
     },
     "execution_count": 15,
     "metadata": {},
     "output_type": "execute_result"
    },
    {
     "data": {
      "image/png": "[encoded data removed]",
      "text/plain": [
       "<Figure size 432x288 with 1 Axes>"
      ]
     },
     "metadata": {
      "needs_background": "light"
     },
     "output_type": "display_data"
    }
   ],
   "source": [
    "test = train_generator.next()\n",
    "print(test[1][0])\n",
    "plt.imshow(test[0][0]/255)"
   ]
  },
  {
   "cell_type": "code",
   "execution_count": 16,
   "metadata": {
    "scrolled": false
   },
   "outputs": [
    {
     "name": "stderr",
     "output_type": "stream",
     "text": [
      "C:\\Users\\SeanK\\Anaconda3\\envs\\py37\\lib\\site-packages\\keras_applications\\resnet50.py:265: UserWarning: The output shape of `ResNet50(include_top=False)` has been changed since Keras 2.2.0.\n",
      "  warnings.warn('The output shape of `ResNet50(include_top=False)` '\n",
      "C:\\Users\\SeanK\\Anaconda3\\envs\\py37\\lib\\site-packages\\ipykernel_launcher.py:10: UserWarning: Update your `Model` call to the Keras 2 API: `Model(inputs=Tensor(\"in..., outputs=Tensor(\"gl...)`\n",
      "  # Remove the CWD from sys.path while we load stuff.\n"
     ]
    },
    {
     "data": {
      "text/html": [
       "<div>\n",
       "<style scoped>\n",
       "    .dataframe tbody tr th:only-of-type {\n",
       "        vertical-align: middle;\n",
       "    }\n",
       "\n",
       "    .dataframe tbody tr th {\n",
       "        vertical-align: top;\n",
       "    }\n",
       "\n",
       "    .dataframe thead th {\n",
       "        text-align: right;\n",
       "    }\n",
       "</style>\n",
       "<table border=\"1\" class=\"dataframe\">\n",
       "  <thead>\n",
       "    <tr style=\"text-align: right;\">\n",
       "      <th></th>\n",
       "      <th>Layer Type</th>\n",
       "      <th>Layer Name</th>\n",
       "      <th>Layer Trainable</th>\n",
       "    </tr>\n",
       "  </thead>\n",
       "  <tbody>\n",
       "    <tr>\n",
       "      <th>0</th>\n",
       "      <td>&lt;keras.engine.input_layer.InputLayer object at 0x000001EF9B763898&gt;</td>\n",
       "      <td>input_1</td>\n",
       "      <td>False</td>\n",
       "    </tr>\n",
       "    <tr>\n",
       "      <th>1</th>\n",
       "      <td>&lt;keras.layers.convolutional.ZeroPadding2D object at 0x000001EF9B76D630&gt;</td>\n",
       "      <td>conv1_pad</td>\n",
       "      <td>False</td>\n",
       "    </tr>\n",
       "    <tr>\n",
       "      <th>2</th>\n",
       "      <td>&lt;keras.layers.convolutional.Conv2D object at 0x000001EF9B76B668&gt;</td>\n",
       "      <td>conv1</td>\n",
       "      <td>False</td>\n",
       "    </tr>\n",
       "    <tr>\n",
       "      <th>3</th>\n",
       "      <td>&lt;keras.layers.normalization.BatchNormalization object at 0x000001EF9C0ACF28&gt;</td>\n",
       "      <td>bn_conv1</td>\n",
       "      <td>False</td>\n",
       "    </tr>\n",
       "    <tr>\n",
       "      <th>4</th>\n",
       "      <td>&lt;keras.layers.core.Activation object at 0x000001EF9C0ACB00&gt;</td>\n",
       "      <td>activation_1</td>\n",
       "      <td>False</td>\n",
       "    </tr>\n",
       "    <tr>\n",
       "      <th>...</th>\n",
       "      <td>...</td>\n",
       "      <td>...</td>\n",
       "      <td>...</td>\n",
       "    </tr>\n",
       "    <tr>\n",
       "      <th>171</th>\n",
       "      <td>&lt;keras.layers.convolutional.Conv2D object at 0x000001EFCA103E80&gt;</td>\n",
       "      <td>res5c_branch2c</td>\n",
       "      <td>False</td>\n",
       "    </tr>\n",
       "    <tr>\n",
       "      <th>172</th>\n",
       "      <td>&lt;keras.layers.normalization.BatchNormalization object at 0x000001EFD350E400&gt;</td>\n",
       "      <td>bn5c_branch2c</td>\n",
       "      <td>False</td>\n",
       "    </tr>\n",
       "    <tr>\n",
       "      <th>173</th>\n",
       "      <td>&lt;keras.layers.merge.Add object at 0x000001EFD350ED68&gt;</td>\n",
       "      <td>add_16</td>\n",
       "      <td>False</td>\n",
       "    </tr>\n",
       "    <tr>\n",
       "      <th>174</th>\n",
       "      <td>&lt;keras.layers.core.Activation object at 0x000001EFD35210F0&gt;</td>\n",
       "      <td>activation_49</td>\n",
       "      <td>False</td>\n",
       "    </tr>\n",
       "    <tr>\n",
       "      <th>175</th>\n",
       "      <td>&lt;keras.layers.pooling.GlobalAveragePooling2D object at 0x000001EFD3544F60&gt;</td>\n",
       "      <td>global_average_pooling2d_1</td>\n",
       "      <td>False</td>\n",
       "    </tr>\n",
       "  </tbody>\n",
       "</table>\n",
       "<p>176 rows × 3 columns</p>\n",
       "</div>"
      ],
      "text/plain": [
       "                                                                       Layer Type  \\\n",
       "0              <keras.engine.input_layer.InputLayer object at 0x000001EF9B763898>   \n",
       "1         <keras.layers.convolutional.ZeroPadding2D object at 0x000001EF9B76D630>   \n",
       "2                <keras.layers.convolutional.Conv2D object at 0x000001EF9B76B668>   \n",
       "3    <keras.layers.normalization.BatchNormalization object at 0x000001EF9C0ACF28>   \n",
       "4                     <keras.layers.core.Activation object at 0x000001EF9C0ACB00>   \n",
       "..                                                                            ...   \n",
       "171              <keras.layers.convolutional.Conv2D object at 0x000001EFCA103E80>   \n",
       "172  <keras.layers.normalization.BatchNormalization object at 0x000001EFD350E400>   \n",
       "173                         <keras.layers.merge.Add object at 0x000001EFD350ED68>   \n",
       "174                   <keras.layers.core.Activation object at 0x000001EFD35210F0>   \n",
       "175    <keras.layers.pooling.GlobalAveragePooling2D object at 0x000001EFD3544F60>   \n",
       "\n",
       "                     Layer Name  Layer Trainable  \n",
       "0                       input_1            False  \n",
       "1                     conv1_pad            False  \n",
       "2                         conv1            False  \n",
       "3                      bn_conv1            False  \n",
       "4                  activation_1            False  \n",
       "..                          ...              ...  \n",
       "171              res5c_branch2c            False  \n",
       "172               bn5c_branch2c            False  \n",
       "173                      add_16            False  \n",
       "174               activation_49            False  \n",
       "175  global_average_pooling2d_1            False  \n",
       "\n",
       "[176 rows x 3 columns]"
      ]
     },
     "execution_count": 16,
     "metadata": {},
     "output_type": "execute_result"
    }
   ],
   "source": [
    "from keras.applications.resnet50 import ResNet50\n",
    "from keras.layers import GlobalAveragePooling2D\n",
    "from keras.models import Model\n",
    "import keras\n",
    "\n",
    "resnet = ResNet50(include_top=False, weights='imagenet', input_shape=(img_height, img_width, 3))\n",
    "\n",
    "output = resnet.output\n",
    "output = GlobalAveragePooling2D()(output)\n",
    "resnet = Model(inputs=resnet.input, output=output)\n",
    "\n",
    "for layer in resnet.layers:\n",
    "    layer.trainable = False\n",
    "    \n",
    "# resnet.summary()\n",
    "pd.set_option('max_colwidth', None)\n",
    "layers = [(layer, layer.name, layer.trainable) for layer in resnet.layers]\n",
    "pd.DataFrame(layers, columns=['Layer Type', 'Layer Name', 'Layer Trainable'])    "
   ]
  },
  {
   "cell_type": "code",
   "execution_count": 18,
   "metadata": {},
   "outputs": [
    {
     "name": "stdout",
     "output_type": "stream",
     "text": [
      "Starting train dataset\n",
      "Finished 745 images for train dataset\n",
      "Starting test dataset\n",
      "Finished 208 images for test dataset\n",
      "Starting val dataset\n",
      "Finished 83 images for val dataset\n"
     ]
    }
   ],
   "source": [
    "# extracting features\n",
    "for dataset, name in zip([train_generator, test_generator, val_generator], ['train', 'test', 'val']):\n",
    "    features = np.zeros([dataset.n, 2048])\n",
    "    class_vectors = np.zeros([dataset.n, 4])\n",
    "    print(f'Starting {name} dataset')\n",
    "    batch_idx = 0\n",
    "    row_idx = 0\n",
    "    for X, y in dataset:\n",
    "        if row_idx+X.shape[0] > dataset.n:  \n",
    "            over_by = (row_idx + X.shape[0]) - dataset.n\n",
    "            print(f'Over by {over_by}')\n",
    "            print(f'X: {X.shape[0]}')\n",
    "            X = X[:(-1*over_by)]  # drops the images which are repeats\n",
    "            y = y[:(-1*over_by)]\n",
    "            print(f'New X: {X.shape[0]}')\n",
    "        idxs = np.arange(row_idx, row_idx+X.shape[0])\n",
    "        features[idxs] = resnet.predict(X)\n",
    "        class_vectors[idxs] = y\n",
    "        row_idx += X.shape[0]\n",
    "        batch_idx += 1\n",
    "        if batch_idx == len(dataset):\n",
    "            break\n",
    "    print(f'Finished {len(dataset.index_array)} images for {name} dataset')\n",
    "    np.save(f'{name}-Xray-features.npy', features)\n",
    "    np.save(f'{name}-Xray-truth.npy', class_vectors)"
   ]
  },
  {
   "cell_type": "code",
   "execution_count": 19,
   "metadata": {},
   "outputs": [
    {
     "name": "stdout",
     "output_type": "stream",
     "text": [
      "(745, 2048)\n",
      "[1.55537915 1.88559639 0.12661202 ... 0.28172386 0.04091214 0.11010009]\n",
      "(745, 4)\n",
      "[0. 0. 0. 1.]\n"
     ]
    }
   ],
   "source": [
    "Xtest = np.load('train-Xray-features.npy')\n",
    "print(Xtest.shape)\n",
    "print(Xtest[-1])\n",
    "Ytest = np.load('train-Xray-truth.npy')\n",
    "print(Ytest.shape)\n",
    "print(Ytest[-1])"
   ]
  }
 ],
 "metadata": {
  "kernelspec": {
   "display_name": "Python [conda env:py37] *",
   "language": "python",
   "name": "conda-env-py37-py"
  },
  "language_info": {
   "codemirror_mode": {
    "name": "ipython",
    "version": 3
   },
   "file_extension": ".py",
   "mimetype": "text/x-python",
   "name": "python",
   "nbconvert_exporter": "python",
   "pygments_lexer": "ipython3",
   "version": "3.7.3"
  }
 },
 "nbformat": 4,
 "nbformat_minor": 2
}
